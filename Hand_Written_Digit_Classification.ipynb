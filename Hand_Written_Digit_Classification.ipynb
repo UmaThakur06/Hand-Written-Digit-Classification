{
  "nbformat": 4,
  "nbformat_minor": 0,
  "metadata": {
    "colab": {
      "provenance": []
    },
    "kernelspec": {
      "name": "python3",
      "display_name": "Python 3"
    },
    "language_info": {
      "name": "python"
    }
  },
  "cells": [
    {
      "cell_type": "markdown",
      "source": [
        "# **Hand written digit prediction-classification Analysis**"
      ],
      "metadata": {
        "id": "oWMGFGywIsGP"
      }
    },
    {
      "cell_type": "markdown",
      "source": [
        "#Objective:\n",
        "The objective of this project is to build a machine learning model that can accurately predict and classify handwritten digits. We will use the digits dataset, containing 8x8 pixel images of handwritten digits from 0 to 9, to train and evaluate our model."
      ],
      "metadata": {
        "id": "tTa4jw91Wcmg"
      }
    },
    {
      "cell_type": "markdown",
      "source": [
        "#Data Source:\n",
        "The dataset used in this project is the digits dataset from scikit-learn, which is a built-in dataset available in the library. It consists of 1,797 8x8 pixel images of digits along with their corresponding target labels."
      ],
      "metadata": {
        "id": "pITV5zDGI97z"
      }
    },
    {
      "cell_type": "markdown",
      "source": [
        "#Import Library:"
      ],
      "metadata": {
        "id": "s6OyohWhW5Uv"
      }
    },
    {
      "cell_type": "code",
      "source": [
        "import pandas as pd"
      ],
      "metadata": {
        "id": "e-rKD0AkJf7s"
      },
      "execution_count": null,
      "outputs": []
    },
    {
      "cell_type": "code",
      "source": [
        "import numpy as np"
      ],
      "metadata": {
        "id": "OQe_FgsPJpKv"
      },
      "execution_count": null,
      "outputs": []
    },
    {
      "cell_type": "code",
      "source": [
        "import matplotlib.pyplot as plt"
      ],
      "metadata": {
        "id": "H62rZwZdJyNR"
      },
      "execution_count": null,
      "outputs": []
    },
    {
      "cell_type": "code",
      "source": [
        "from sklearn.datasets import load_digits"
      ],
      "metadata": {
        "id": "CTqN_IvtJ1q5"
      },
      "execution_count": null,
      "outputs": []
    },
    {
      "cell_type": "markdown",
      "source": [
        "#Import Data:\n",
        "We load the digits dataset using the load_digits() function provided by scikit-learn:"
      ],
      "metadata": {
        "id": "XZZxe3aXW-OY"
      }
    },
    {
      "cell_type": "code",
      "source": [
        "df = load_digits()"
      ],
      "metadata": {
        "id": "A4rEwyJxKDMH"
      },
      "execution_count": null,
      "outputs": []
    },
    {
      "cell_type": "markdown",
      "source": [
        "#Describe Data:\n",
        "The digits dataset does not require explicit description, as the images themselves represent the data. Each image is an 8x8 array of grayscale pixel values representing a handwritten digit.\n",
        "\n",
        "#Data Visualization:\n",
        "We visualize the first four images from the dataset using matplotlib:"
      ],
      "metadata": {
        "id": "GIck_QzeXJ1k"
      }
    },
    {
      "cell_type": "code",
      "source": [
        "_, axes = plt.subplots(nrows=1, ncols=4, figsize=(10, 3))\n",
        "for ax, image, label in zip(axes, df.images, df.target):\n",
        "  ax.set_axis_off()\n",
        "  ax.imshow(image, cmap=plt.cm.gray_r, interpolation=\"nearest\")\n",
        "  ax.set_title(\"Training: %i\" % label)"
      ],
      "metadata": {
        "colab": {
          "base_uri": "https://localhost:8080/",
          "height": 227
        },
        "id": "Juu8knEjKGhK",
        "outputId": "0ca9dbae-0e27-4d63-f289-ef6104c65436"
      },
      "execution_count": null,
      "outputs": [
        {
          "output_type": "display_data",
          "data": {
            "text/plain": [
              "<Figure size 1000x300 with 4 Axes>"
            ],
            "image/png": "[encoded data removed]"
          },
          "metadata": {}
        }
      ]
    },
    {
      "cell_type": "markdown",
      "source": [
        "# Data Preprocessing\n",
        "Flatten Image"
      ],
      "metadata": {
        "id": "T9C-LvVkNxDR"
      }
    },
    {
      "cell_type": "code",
      "source": [
        "df.images.shape"
      ],
      "metadata": {
        "colab": {
          "base_uri": "https://localhost:8080/"
        },
        "id": "hE5SA8n_N-uY",
        "outputId": "547efad1-5be1-4b1c-d069-51ac5e2844d1"
      },
      "execution_count": null,
      "outputs": [
        {
          "output_type": "execute_result",
          "data": {
            "text/plain": [
              "(1797, 8, 8)"
            ]
          },
          "metadata": {},
          "execution_count": 7
        }
      ]
    },
    {
      "cell_type": "code",
      "source": [
        "df.images[0]"
      ],
      "metadata": {
        "colab": {
          "base_uri": "https://localhost:8080/"
        },
        "id": "B9ETirJkOFSM",
        "outputId": "f1d53588-841e-4096-9b20-de98525d2bb5"
      },
      "execution_count": null,
      "outputs": [
        {
          "output_type": "execute_result",
          "data": {
            "text/plain": [
              "array([[ 0.,  0.,  5., 13.,  9.,  1.,  0.,  0.],\n",
              "       [ 0.,  0., 13., 15., 10., 15.,  5.,  0.],\n",
              "       [ 0.,  3., 15.,  2.,  0., 11.,  8.,  0.],\n",
              "       [ 0.,  4., 12.,  0.,  0.,  8.,  8.,  0.],\n",
              "       [ 0.,  5.,  8.,  0.,  0.,  9.,  8.,  0.],\n",
              "       [ 0.,  4., 11.,  0.,  1., 12.,  7.,  0.],\n",
              "       [ 0.,  2., 14.,  5., 10., 12.,  0.,  0.],\n",
              "       [ 0.,  0.,  6., 13., 10.,  0.,  0.,  0.]])"
            ]
          },
          "metadata": {},
          "execution_count": 8
        }
      ]
    },
    {
      "cell_type": "code",
      "source": [
        "df.images[0].shape"
      ],
      "metadata": {
        "colab": {
          "base_uri": "https://localhost:8080/"
        },
        "id": "NODNjrjXOLfZ",
        "outputId": "7cb350d4-bb65-4620-c498-e37fd534d8e9"
      },
      "execution_count": null,
      "outputs": [
        {
          "output_type": "execute_result",
          "data": {
            "text/plain": [
              "(8, 8)"
            ]
          },
          "metadata": {},
          "execution_count": 9
        }
      ]
    },
    {
      "cell_type": "code",
      "source": [
        "len(df.images)"
      ],
      "metadata": {
        "colab": {
          "base_uri": "https://localhost:8080/"
        },
        "id": "EzwNmrfDOTGk",
        "outputId": "fa0a382e-d858-449f-a1f0-e8d6323bbddd"
      },
      "execution_count": null,
      "outputs": [
        {
          "output_type": "execute_result",
          "data": {
            "text/plain": [
              "1797"
            ]
          },
          "metadata": {},
          "execution_count": 10
        }
      ]
    },
    {
      "cell_type": "markdown",
      "source": [
        "#Data Preprocessing:\n",
        "To prepare the data for modeling, we flatten the 8x8 images into 1D arrays and scale the pixel values between 0 and 1:"
      ],
      "metadata": {
        "id": "iHTp2Ws1XSa2"
      }
    },
    {
      "cell_type": "code",
      "source": [
        "n_samples = len(df.images)\n",
        "data = df.images.reshape((n_samples, -1))"
      ],
      "metadata": {
        "id": "F8W9nxV9OWyK"
      },
      "execution_count": null,
      "outputs": []
    },
    {
      "cell_type": "code",
      "source": [
        "data[0]"
      ],
      "metadata": {
        "colab": {
          "base_uri": "https://localhost:8080/"
        },
        "id": "fnSITlkgOhWd",
        "outputId": "eb6f39d8-5bd0-4667-895a-59ccfc6597c0"
      },
      "execution_count": null,
      "outputs": [
        {
          "output_type": "execute_result",
          "data": {
            "text/plain": [
              "array([ 0.,  0.,  5., 13.,  9.,  1.,  0.,  0.,  0.,  0., 13., 15., 10.,\n",
              "       15.,  5.,  0.,  0.,  3., 15.,  2.,  0., 11.,  8.,  0.,  0.,  4.,\n",
              "       12.,  0.,  0.,  8.,  8.,  0.,  0.,  5.,  8.,  0.,  0.,  9.,  8.,\n",
              "        0.,  0.,  4., 11.,  0.,  1., 12.,  7.,  0.,  0.,  2., 14.,  5.,\n",
              "       10., 12.,  0.,  0.,  0.,  0.,  6., 13., 10.,  0.,  0.,  0.])"
            ]
          },
          "metadata": {},
          "execution_count": 12
        }
      ]
    },
    {
      "cell_type": "code",
      "source": [
        "data[0].shape"
      ],
      "metadata": {
        "colab": {
          "base_uri": "https://localhost:8080/"
        },
        "id": "X6m3FfeqOk2X",
        "outputId": "9eab429b-83af-4024-ef23-5d40372a738f"
      },
      "execution_count": null,
      "outputs": [
        {
          "output_type": "execute_result",
          "data": {
            "text/plain": [
              "(64,)"
            ]
          },
          "metadata": {},
          "execution_count": 13
        }
      ]
    },
    {
      "cell_type": "code",
      "source": [
        "data.shape"
      ],
      "metadata": {
        "colab": {
          "base_uri": "https://localhost:8080/"
        },
        "id": "-jiFYNgKOsDJ",
        "outputId": "4b40108d-bbba-46c8-a983-a685138fa270"
      },
      "execution_count": null,
      "outputs": [
        {
          "output_type": "execute_result",
          "data": {
            "text/plain": [
              "(1797, 64)"
            ]
          },
          "metadata": {},
          "execution_count": 14
        }
      ]
    },
    {
      "cell_type": "markdown",
      "source": [
        "# Scaling Image Data"
      ],
      "metadata": {
        "id": "gAOs20AOOu6F"
      }
    },
    {
      "cell_type": "code",
      "source": [
        "data.min()"
      ],
      "metadata": {
        "colab": {
          "base_uri": "https://localhost:8080/"
        },
        "id": "fhJjrzr3Ozgu",
        "outputId": "b0db8881-c5fe-4e96-c69e-b86db9b8597c"
      },
      "execution_count": null,
      "outputs": [
        {
          "output_type": "execute_result",
          "data": {
            "text/plain": [
              "0.0"
            ]
          },
          "metadata": {},
          "execution_count": 15
        }
      ]
    },
    {
      "cell_type": "code",
      "source": [
        "data.max()"
      ],
      "metadata": {
        "colab": {
          "base_uri": "https://localhost:8080/"
        },
        "id": "uMz4X-myO2Lp",
        "outputId": "c1789306-93cb-4211-8fe3-a63a6ebd4d81"
      },
      "execution_count": null,
      "outputs": [
        {
          "output_type": "execute_result",
          "data": {
            "text/plain": [
              "16.0"
            ]
          },
          "metadata": {},
          "execution_count": 16
        }
      ]
    },
    {
      "cell_type": "code",
      "source": [
        "data = data/16"
      ],
      "metadata": {
        "id": "nftjeNOdO7LM"
      },
      "execution_count": null,
      "outputs": []
    },
    {
      "cell_type": "code",
      "source": [
        "data.min()"
      ],
      "metadata": {
        "colab": {
          "base_uri": "https://localhost:8080/"
        },
        "id": "X9Vrk7BsO-KX",
        "outputId": "9f3e0295-5397-45ec-a801-cfe78be6f469"
      },
      "execution_count": null,
      "outputs": [
        {
          "output_type": "execute_result",
          "data": {
            "text/plain": [
              "0.0"
            ]
          },
          "metadata": {},
          "execution_count": 18
        }
      ]
    },
    {
      "cell_type": "code",
      "source": [
        "data.max()"
      ],
      "metadata": {
        "colab": {
          "base_uri": "https://localhost:8080/"
        },
        "id": "bIJZ6y6DPBSU",
        "outputId": "f87909cc-f2bf-4898-d20b-4b5a9b73ef20"
      },
      "execution_count": null,
      "outputs": [
        {
          "output_type": "execute_result",
          "data": {
            "text/plain": [
              "1.0"
            ]
          },
          "metadata": {},
          "execution_count": 19
        }
      ]
    },
    {
      "cell_type": "code",
      "source": [
        "data[0]"
      ],
      "metadata": {
        "colab": {
          "base_uri": "https://localhost:8080/"
        },
        "id": "8qERoLMmPEVX",
        "outputId": "2d7285da-300e-4ddf-bf60-b1175aedbdda"
      },
      "execution_count": null,
      "outputs": [
        {
          "output_type": "execute_result",
          "data": {
            "text/plain": [
              "array([0.    , 0.    , 0.3125, 0.8125, 0.5625, 0.0625, 0.    , 0.    ,\n",
              "       0.    , 0.    , 0.8125, 0.9375, 0.625 , 0.9375, 0.3125, 0.    ,\n",
              "       0.    , 0.1875, 0.9375, 0.125 , 0.    , 0.6875, 0.5   , 0.    ,\n",
              "       0.    , 0.25  , 0.75  , 0.    , 0.    , 0.5   , 0.5   , 0.    ,\n",
              "       0.    , 0.3125, 0.5   , 0.    , 0.    , 0.5625, 0.5   , 0.    ,\n",
              "       0.    , 0.25  , 0.6875, 0.    , 0.0625, 0.75  , 0.4375, 0.    ,\n",
              "       0.    , 0.125 , 0.875 , 0.3125, 0.625 , 0.75  , 0.    , 0.    ,\n",
              "       0.    , 0.    , 0.375 , 0.8125, 0.625 , 0.    , 0.    , 0.    ])"
            ]
          },
          "metadata": {},
          "execution_count": 20
        }
      ]
    },
    {
      "cell_type": "markdown",
      "source": [
        "#Define Target Variable (y) and Feature Variables (X):\n",
        "We define the target variable (y) as the 'target' attribute of the dataset, which represents the digit each image represents. The feature variables (X) are the flattened 1D arrays of pixel values:\n"
      ],
      "metadata": {
        "id": "bjI2Be7pPImm"
      }
    },
    {
      "cell_type": "code",
      "source": [
        "from sklearn.model_selection import train_test_split"
      ],
      "metadata": {
        "id": "9gvYR8hmPNFT"
      },
      "execution_count": null,
      "outputs": []
    },
    {
      "cell_type": "code",
      "source": [
        "X_train, X_test, y_train, y_test = train_test_split(data, df.target, test_size=0.3)"
      ],
      "metadata": {
        "id": "JPGTeJXWPWDp"
      },
      "execution_count": null,
      "outputs": []
    },
    {
      "cell_type": "markdown",
      "source": [
        "#Train Test Split:\n",
        "We split the data into training and testing sets using the train_test_split() function:"
      ],
      "metadata": {
        "id": "cgMuzg-QYUI8"
      }
    },
    {
      "cell_type": "code",
      "source": [
        "X_train.shape, X_test.shape, y_train.shape, y_test.shape"
      ],
      "metadata": {
        "colab": {
          "base_uri": "https://localhost:8080/"
        },
        "id": "Nao_OqnFPvrc",
        "outputId": "a8a74753-77df-463e-f169-203f1d5d135e"
      },
      "execution_count": null,
      "outputs": [
        {
          "output_type": "execute_result",
          "data": {
            "text/plain": [
              "((1257, 64), (540, 64), (1257,), (540,))"
            ]
          },
          "metadata": {},
          "execution_count": 23
        }
      ]
    },
    {
      "cell_type": "markdown",
      "source": [
        "# Modeling:\n",
        "For this analysis, we will use the Random Forest classifier to build our model:"
      ],
      "metadata": {
        "id": "NsFoWTTXP69G"
      }
    },
    {
      "cell_type": "code",
      "source": [
        " from sklearn.ensemble import RandomForestClassifier"
      ],
      "metadata": {
        "id": "tuS6TTYuQBMc"
      },
      "execution_count": null,
      "outputs": []
    },
    {
      "cell_type": "code",
      "source": [
        "rf = RandomForestClassifier()"
      ],
      "metadata": {
        "id": "DNz0EnrcQVzz"
      },
      "execution_count": null,
      "outputs": []
    },
    {
      "cell_type": "code",
      "source": [
        "rf.fit(X_train, y_train)"
      ],
      "metadata": {
        "colab": {
          "base_uri": "https://localhost:8080/",
          "height": 74
        },
        "id": "3Vnr6k_hQbxk",
        "outputId": "874d70a3-e57a-4582-ea53-d05c9ca81bf5"
      },
      "execution_count": null,
      "outputs": [
        {
          "output_type": "execute_result",
          "data": {
            "text/plain": [
              "RandomForestClassifier()"
            ],
            "text/html": [
              "<style>#sk-container-id-1 {color: black;background-color: white;}#sk-container-id-1 pre{padding: 0;}#sk-container-id-1 div.sk-toggleable {background-color: white;}#sk-container-id-1 label.sk-toggleable__label {cursor: pointer;display: block;width: 100%;margin-bottom: 0;padding: 0.3em;box-sizing: border-box;text-align: center;}#sk-container-id-1 label.sk-toggleable__label-arrow:before {content: \"▸\";float: left;margin-right: 0.25em;color: #696969;}#sk-container-id-1 label.sk-toggleable__label-arrow:hover:before {color: black;}#sk-container-id-1 div.sk-estimator:hover label.sk-toggleable__label-arrow:before {color: black;}#sk-container-id-1 div.sk-toggleable__content {max-height: 0;max-width: 0;overflow: hidden;text-align: left;background-color: #f0f8ff;}#sk-container-id-1 div.sk-toggleable__content pre {margin: 0.2em;color: black;border-radius: 0.25em;background-color: #f0f8ff;}#sk-container-id-1 input.sk-toggleable__control:checked~div.sk-toggleable__content {max-height: 200px;max-width: 100%;overflow: auto;}#sk-container-id-1 input.sk-toggleable__control:checked~label.sk-toggleable__label-arrow:before {content: \"▾\";}#sk-container-id-1 div.sk-estimator input.sk-toggleable__control:checked~label.sk-toggleable__label {background-color: #d4ebff;}#sk-container-id-1 div.sk-label input.sk-toggleable__control:checked~label.sk-toggleable__label {background-color: #d4ebff;}#sk-container-id-1 input.sk-hidden--visually {border: 0;clip: rect(1px 1px 1px 1px);clip: rect(1px, 1px, 1px, 1px);height: 1px;margin: -1px;overflow: hidden;padding: 0;position: absolute;width: 1px;}#sk-container-id-1 div.sk-estimator {font-family: monospace;background-color: #f0f8ff;border: 1px dotted black;border-radius: 0.25em;box-sizing: border-box;margin-bottom: 0.5em;}#sk-container-id-1 div.sk-estimator:hover {background-color: #d4ebff;}#sk-container-id-1 div.sk-parallel-item::after {content: \"\";width: 100%;border-bottom: 1px solid gray;flex-grow: 1;}#sk-container-id-1 div.sk-label:hover label.sk-toggleable__label {background-color: #d4ebff;}#sk-container-id-1 div.sk-serial::before {content: \"\";position: absolute;border-left: 1px solid gray;box-sizing: border-box;top: 0;bottom: 0;left: 50%;z-index: 0;}#sk-container-id-1 div.sk-serial {display: flex;flex-direction: column;align-items: center;background-color: white;padding-right: 0.2em;padding-left: 0.2em;position: relative;}#sk-container-id-1 div.sk-item {position: relative;z-index: 1;}#sk-container-id-1 div.sk-parallel {display: flex;align-items: stretch;justify-content: center;background-color: white;position: relative;}#sk-container-id-1 div.sk-item::before, #sk-container-id-1 div.sk-parallel-item::before {content: \"\";position: absolute;border-left: 1px solid gray;box-sizing: border-box;top: 0;bottom: 0;left: 50%;z-index: -1;}#sk-container-id-1 div.sk-parallel-item {display: flex;flex-direction: column;z-index: 1;position: relative;background-color: white;}#sk-container-id-1 div.sk-parallel-item:first-child::after {align-self: flex-end;width: 50%;}#sk-container-id-1 div.sk-parallel-item:last-child::after {align-self: flex-start;width: 50%;}#sk-container-id-1 div.sk-parallel-item:only-child::after {width: 0;}#sk-container-id-1 div.sk-dashed-wrapped {border: 1px dashed gray;margin: 0 0.4em 0.5em 0.4em;box-sizing: border-box;padding-bottom: 0.4em;background-color: white;}#sk-container-id-1 div.sk-label label {font-family: monospace;font-weight: bold;display: inline-block;line-height: 1.2em;}#sk-container-id-1 div.sk-label-container {text-align: center;}#sk-container-id-1 div.sk-container {/* jupyter's `normalize.less` sets `[hidden] { display: none; }` but bootstrap.min.css set `[hidden] { display: none !important; }` so we also need the `!important` here to be able to override the default hidden behavior on the sphinx rendered scikit-learn.org. See: https://github.com/scikit-learn/scikit-learn/issues/21755 */display: inline-block !important;position: relative;}#sk-container-id-1 div.sk-text-repr-fallback {display: none;}</style><div id=\"sk-container-id-1\" class=\"sk-top-container\"><div class=\"sk-text-repr-fallback\"><pre>RandomForestClassifier()</pre><b>In a Jupyter environment, please rerun this cell to show the HTML representation or trust the notebook. <br />On GitHub, the HTML representation is unable to render, please try loading this page with nbviewer.org.</b></div><div class=\"sk-container\" hidden><div class=\"sk-item\"><div class=\"sk-estimator sk-toggleable\"><input class=\"sk-toggleable__control sk-hidden--visually\" id=\"sk-estimator-id-1\" type=\"checkbox\" checked><label for=\"sk-estimator-id-1\" class=\"sk-toggleable__label sk-toggleable__label-arrow\">RandomForestClassifier</label><div class=\"sk-toggleable__content\"><pre>RandomForestClassifier()</pre></div></div></div></div></div>"
            ]
          },
          "metadata": {},
          "execution_count": 26
        }
      ]
    },
    {
      "cell_type": "markdown",
      "source": [
        "# Model Evaluation:\n",
        "We evaluate the model's performance using the test data:"
      ],
      "metadata": {
        "id": "rmXcRlQYQkni"
      }
    },
    {
      "cell_type": "code",
      "source": [
        "y_pred = rf.predict(X_test)"
      ],
      "metadata": {
        "id": "LxaL4tWMQpjH"
      },
      "execution_count": null,
      "outputs": []
    },
    {
      "cell_type": "code",
      "source": [
        "y_pred"
      ],
      "metadata": {
        "colab": {
          "base_uri": "https://localhost:8080/"
        },
        "id": "jJJivjk4Qwe5",
        "outputId": "fa6719f7-3c70-43b3-c083-bfb20f3d9ab0"
      },
      "execution_count": null,
      "outputs": [
        {
          "output_type": "execute_result",
          "data": {
            "text/plain": [
              "array([5, 5, 1, 5, 8, 0, 6, 8, 0, 2, 9, 7, 1, 8, 6, 3, 2, 4, 9, 2, 0, 4,\n",
              "       3, 6, 2, 9, 7, 1, 3, 1, 8, 1, 8, 4, 8, 7, 3, 4, 8, 3, 7, 9, 3, 8,\n",
              "       7, 0, 1, 2, 4, 0, 1, 7, 6, 3, 7, 9, 4, 4, 0, 4, 0, 8, 3, 1, 0, 5,\n",
              "       2, 2, 2, 5, 6, 7, 9, 5, 6, 6, 1, 7, 8, 7, 0, 9, 9, 4, 1, 4, 3, 2,\n",
              "       6, 9, 9, 7, 9, 8, 9, 1, 6, 0, 7, 4, 6, 2, 0, 9, 1, 4, 9, 3, 5, 0,\n",
              "       9, 4, 5, 1, 5, 2, 8, 4, 6, 2, 6, 4, 7, 0, 5, 4, 4, 0, 7, 9, 5, 7,\n",
              "       6, 3, 3, 0, 2, 9, 6, 9, 6, 2, 0, 3, 9, 7, 3, 5, 1, 9, 1, 3, 7, 8,\n",
              "       4, 3, 4, 0, 4, 1, 4, 6, 8, 9, 1, 3, 3, 0, 8, 9, 0, 3, 3, 9, 0, 8,\n",
              "       9, 6, 2, 5, 3, 6, 0, 0, 1, 0, 8, 1, 9, 2, 4, 8, 4, 7, 0, 8, 5, 6,\n",
              "       1, 2, 2, 7, 8, 7, 0, 1, 9, 2, 5, 6, 3, 1, 2, 0, 9, 5, 4, 2, 3, 9,\n",
              "       0, 1, 3, 9, 4, 3, 2, 0, 9, 2, 2, 6, 8, 6, 7, 0, 7, 5, 6, 6, 1, 9,\n",
              "       3, 9, 4, 8, 6, 0, 9, 0, 7, 4, 5, 3, 2, 7, 7, 6, 7, 3, 4, 8, 6, 8,\n",
              "       5, 5, 9, 8, 4, 2, 6, 7, 1, 7, 6, 5, 6, 6, 4, 8, 9, 1, 3, 6, 8, 7,\n",
              "       0, 0, 5, 9, 7, 7, 1, 4, 2, 4, 1, 9, 0, 0, 4, 4, 1, 9, 6, 5, 8, 0,\n",
              "       0, 5, 9, 4, 4, 0, 1, 9, 2, 3, 7, 8, 1, 8, 8, 0, 7, 3, 1, 8, 0, 5,\n",
              "       5, 7, 4, 5, 2, 0, 9, 2, 1, 5, 8, 5, 4, 4, 4, 2, 5, 4, 3, 6, 1, 5,\n",
              "       3, 6, 6, 1, 6, 7, 9, 6, 1, 6, 1, 2, 3, 5, 8, 9, 1, 7, 3, 3, 0, 0,\n",
              "       6, 6, 2, 3, 3, 9, 0, 3, 0, 0, 2, 1, 7, 2, 1, 2, 1, 3, 9, 9, 5, 0,\n",
              "       7, 1, 3, 7, 6, 5, 9, 1, 0, 7, 0, 6, 1, 2, 1, 5, 4, 9, 1, 8, 4, 7,\n",
              "       2, 9, 9, 6, 2, 6, 8, 3, 2, 8, 0, 0, 3, 8, 4, 5, 1, 8, 6, 9, 5, 0,\n",
              "       6, 6, 1, 8, 7, 3, 7, 1, 2, 9, 9, 7, 9, 2, 8, 4, 5, 5, 6, 4, 9, 3,\n",
              "       4, 4, 0, 9, 5, 7, 7, 6, 8, 8, 4, 2, 9, 0, 4, 5, 3, 3, 6, 4, 0, 4,\n",
              "       1, 8, 1, 3, 2, 0, 2, 0, 6, 0, 0, 5, 1, 7, 5, 1, 7, 3, 8, 5, 3, 0,\n",
              "       9, 5, 2, 5, 2, 0, 9, 6, 2, 5, 5, 1, 7, 9, 0, 5, 1, 4, 4, 1, 9, 7,\n",
              "       4, 4, 7, 5, 7, 2, 4, 3, 7, 8, 8, 0])"
            ]
          },
          "metadata": {},
          "execution_count": 28
        }
      ]
    },
    {
      "cell_type": "markdown",
      "source": [
        "# Model Accuracy"
      ],
      "metadata": {
        "id": "DFp8leSaQ6JA"
      }
    },
    {
      "cell_type": "code",
      "source": [
        "from sklearn.metrics import confusion_matrix, classification_report"
      ],
      "metadata": {
        "id": "dZajL97kRB7b"
      },
      "execution_count": null,
      "outputs": []
    },
    {
      "cell_type": "code",
      "source": [
        "confusion_matrix(y_test, y_pred)"
      ],
      "metadata": {
        "colab": {
          "base_uri": "https://localhost:8080/"
        },
        "id": "bylDJsePRSV6",
        "outputId": "5f9cd216-472f-4e53-92fa-443b208902b4"
      },
      "execution_count": null,
      "outputs": [
        {
          "output_type": "execute_result",
          "data": {
            "text/plain": [
              "array([[62,  0,  0,  0,  0,  0,  0,  0,  0,  0],\n",
              "       [ 0, 55,  0,  0,  0,  0,  0,  0,  0,  0],\n",
              "       [ 1,  0, 49,  0,  0,  0,  0,  0,  0,  0],\n",
              "       [ 0,  0,  0, 50,  0,  0,  0,  0,  4,  1],\n",
              "       [ 0,  0,  0,  0, 57,  0,  0,  1,  0,  0],\n",
              "       [ 0,  0,  0,  0,  0, 49,  1,  0,  1,  0],\n",
              "       [ 0,  1,  0,  0,  0,  1, 52,  0,  1,  0],\n",
              "       [ 0,  0,  0,  0,  0,  0,  0, 52,  0,  1],\n",
              "       [ 0,  0,  0,  0,  0,  0,  0,  0, 40,  1],\n",
              "       [ 0,  0,  0,  1,  0,  0,  0,  0,  1, 58]])"
            ]
          },
          "metadata": {},
          "execution_count": 30
        }
      ]
    },
    {
      "cell_type": "code",
      "source": [
        "print(classification_report(y_test, y_pred))"
      ],
      "metadata": {
        "colab": {
          "base_uri": "https://localhost:8080/"
        },
        "id": "4gQwkM5qRb-2",
        "outputId": "af3f5244-5dec-490c-c041-7aea1420a033"
      },
      "execution_count": null,
      "outputs": [
        {
          "output_type": "stream",
          "name": "stdout",
          "text": [
            "              precision    recall  f1-score   support\n",
            "\n",
            "           0       0.98      1.00      0.99        62\n",
            "           1       0.98      1.00      0.99        55\n",
            "           2       1.00      0.98      0.99        50\n",
            "           3       0.98      0.91      0.94        55\n",
            "           4       1.00      0.98      0.99        58\n",
            "           5       0.98      0.96      0.97        51\n",
            "           6       0.98      0.95      0.96        55\n",
            "           7       0.98      0.98      0.98        53\n",
            "           8       0.85      0.98      0.91        41\n",
            "           9       0.95      0.97      0.96        60\n",
            "\n",
            "    accuracy                           0.97       540\n",
            "   macro avg       0.97      0.97      0.97       540\n",
            "weighted avg       0.97      0.97      0.97       540\n",
            "\n"
          ]
        }
      ]
    },
    {
      "cell_type": "markdown",
      "source": [
        "#Prediction:\n",
        "We use the trained model to make predictions on new, unseen data (X_test) to predict the corresponding digits.\n",
        "\n",
        "#Explanation:\n",
        "The project aimed to build a machine learning model using the Random Forest algorithm to predict and classify handwritten digits. After data preprocessing, we trained the model on the training set and evaluated its performance using the test set. The model achieved an accuracy of approximately 97% and demonstrated good predictive capabilities for recognizing handwritten digits."
      ],
      "metadata": {
        "id": "IgrPdqooYxrb"
      }
    }
  ]
}